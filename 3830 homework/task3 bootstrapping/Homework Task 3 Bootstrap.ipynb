{
 "cells": [
  {
   "cell_type": "markdown",
   "metadata": {},
   "source": [
    "<img align=\"center\" src=\"http://sydney.edu.au/images/content/about/logo-mono.jpg\">\n",
    "<h1 align=\"center\" style=\"margin-top:10px\">Advanced Analytics (QBUS3830)</h1>\n",
    "<h2 align=\"center\" style=\"margin-top:10px\">Homework Task 3: The Bootstrap</h2>\n",
    "<br>"
   ]
  },
  {
   "cell_type": "code",
   "execution_count": 1,
   "metadata": {},
   "outputs": [],
   "source": [
    "import numpy as np\n",
    "from scipy import stats"
   ]
  },
  {
   "cell_type": "markdown",
   "metadata": {},
   "source": [
    "## Equity Premium Data\n"
   ]
  },
  {
   "cell_type": "code",
   "execution_count": 2,
   "metadata": {},
   "outputs": [
    {
     "data": {
      "text/html": [
       "<div>\n",
       "<style>\n",
       "    .dataframe thead tr:only-child th {\n",
       "        text-align: right;\n",
       "    }\n",
       "\n",
       "    .dataframe thead th {\n",
       "        text-align: left;\n",
       "    }\n",
       "\n",
       "    .dataframe tbody tr th {\n",
       "        vertical-align: top;\n",
       "    }\n",
       "</style>\n",
       "<table border=\"1\" class=\"dataframe\">\n",
       "  <thead>\n",
       "    <tr style=\"text-align: right;\">\n",
       "      <th></th>\n",
       "      <th>dp</th>\n",
       "      <th>dy</th>\n",
       "      <th>ep</th>\n",
       "      <th>bm</th>\n",
       "      <th>ntis</th>\n",
       "      <th>tbl</th>\n",
       "      <th>ltr</th>\n",
       "      <th>dfy</th>\n",
       "      <th>dfr</th>\n",
       "      <th>infl</th>\n",
       "      <th>ik</th>\n",
       "      <th>ret</th>\n",
       "    </tr>\n",
       "    <tr>\n",
       "      <th>yyyyq</th>\n",
       "      <th></th>\n",
       "      <th></th>\n",
       "      <th></th>\n",
       "      <th></th>\n",
       "      <th></th>\n",
       "      <th></th>\n",
       "      <th></th>\n",
       "      <th></th>\n",
       "      <th></th>\n",
       "      <th></th>\n",
       "      <th></th>\n",
       "      <th></th>\n",
       "    </tr>\n",
       "  </thead>\n",
       "  <tbody>\n",
       "    <tr>\n",
       "      <th>19472</th>\n",
       "      <td>-3.047824</td>\n",
       "      <td>-3.056357</td>\n",
       "      <td>-2.480303</td>\n",
       "      <td>0.741535</td>\n",
       "      <td>0.031020</td>\n",
       "      <td>0.0038</td>\n",
       "      <td>0.003502</td>\n",
       "      <td>0.0060</td>\n",
       "      <td>0.004205</td>\n",
       "      <td>0.019952</td>\n",
       "      <td>0.035508</td>\n",
       "      <td>0.259531</td>\n",
       "    </tr>\n",
       "    <tr>\n",
       "      <th>19473</th>\n",
       "      <td>-2.996390</td>\n",
       "      <td>-2.993757</td>\n",
       "      <td>-2.357310</td>\n",
       "      <td>0.741117</td>\n",
       "      <td>0.026473</td>\n",
       "      <td>0.0038</td>\n",
       "      <td>0.000587</td>\n",
       "      <td>0.0066</td>\n",
       "      <td>0.003818</td>\n",
       "      <td>0.003636</td>\n",
       "      <td>0.034587</td>\n",
       "      <td>-0.667633</td>\n",
       "    </tr>\n",
       "    <tr>\n",
       "      <th>19474</th>\n",
       "      <td>-2.951079</td>\n",
       "      <td>-2.957675</td>\n",
       "      <td>-2.277102</td>\n",
       "      <td>0.740323</td>\n",
       "      <td>0.024059</td>\n",
       "      <td>0.0080</td>\n",
       "      <td>0.009987</td>\n",
       "      <td>0.0062</td>\n",
       "      <td>-0.028135</td>\n",
       "      <td>0.034420</td>\n",
       "      <td>0.033582</td>\n",
       "      <td>1.240105</td>\n",
       "    </tr>\n",
       "    <tr>\n",
       "      <th>19481</th>\n",
       "      <td>-2.902206</td>\n",
       "      <td>-2.889710</td>\n",
       "      <td>-2.251619</td>\n",
       "      <td>0.725326</td>\n",
       "      <td>0.025922</td>\n",
       "      <td>0.0095</td>\n",
       "      <td>-0.039832</td>\n",
       "      <td>0.0066</td>\n",
       "      <td>0.022582</td>\n",
       "      <td>0.024956</td>\n",
       "      <td>0.034360</td>\n",
       "      <td>-1.458347</td>\n",
       "    </tr>\n",
       "    <tr>\n",
       "      <th>19482</th>\n",
       "      <td>-2.875888</td>\n",
       "      <td>-2.890372</td>\n",
       "      <td>-2.176876</td>\n",
       "      <td>0.841422</td>\n",
       "      <td>0.027187</td>\n",
       "      <td>0.0100</td>\n",
       "      <td>0.010032</td>\n",
       "      <td>0.0070</td>\n",
       "      <td>0.007850</td>\n",
       "      <td>0.003845</td>\n",
       "      <td>0.036162</td>\n",
       "      <td>10.433170</td>\n",
       "    </tr>\n",
       "  </tbody>\n",
       "</table>\n",
       "</div>"
      ],
      "text/plain": [
       "             dp        dy        ep        bm      ntis     tbl       ltr  \\\n",
       "yyyyq                                                                       \n",
       "19472 -3.047824 -3.056357 -2.480303  0.741535  0.031020  0.0038  0.003502   \n",
       "19473 -2.996390 -2.993757 -2.357310  0.741117  0.026473  0.0038  0.000587   \n",
       "19474 -2.951079 -2.957675 -2.277102  0.740323  0.024059  0.0080  0.009987   \n",
       "19481 -2.902206 -2.889710 -2.251619  0.725326  0.025922  0.0095 -0.039832   \n",
       "19482 -2.875888 -2.890372 -2.176876  0.841422  0.027187  0.0100  0.010032   \n",
       "\n",
       "          dfy       dfr      infl        ik        ret  \n",
       "yyyyq                                                   \n",
       "19472  0.0060  0.004205  0.019952  0.035508   0.259531  \n",
       "19473  0.0066  0.003818  0.003636  0.034587  -0.667633  \n",
       "19474  0.0062 -0.028135  0.034420  0.033582   1.240105  \n",
       "19481  0.0066  0.022582  0.024956  0.034360  -1.458347  \n",
       "19482  0.0070  0.007850  0.003845  0.036162  10.433170  "
      ]
     },
     "execution_count": 2,
     "metadata": {},
     "output_type": "execute_result"
    }
   ],
   "source": [
    "import pandas as pd\n",
    "data = pd.read_csv('Data\\EquityPremium.csv', index_col=0)\n",
    "data.head()"
   ]
  },
  {
   "cell_type": "markdown",
   "metadata": {},
   "source": [
    "## Linear Regression Code"
   ]
  },
  {
   "cell_type": "code",
   "execution_count": 4,
   "metadata": {},
   "outputs": [],
   "source": [
    "import statsmodels.api as sm\n",
    "\n",
    "response=['ret']\n",
    "predictors=['dp', 'dy', 'ep', 'bm', 'ntis', 'tbl', 'ltr', 'dfy', 'dfr', 'infl', 'ik']\n",
    "\n",
    "y_train = data[response]\n",
    "X_train = (data[predictors]-data[predictors].mean())/data[predictors].std()\n",
    "X_train= sm.add_constant(X_train)"
   ]
  },
  {
   "cell_type": "code",
   "execution_count": 5,
   "metadata": {},
   "outputs": [
    {
     "name": "stdout",
     "output_type": "stream",
     "text": [
      "                            OLS Regression Results                            \n",
      "==============================================================================\n",
      "Dep. Variable:                    ret   R-squared:                       0.073\n",
      "Model:                            OLS   Adj. R-squared:                  0.035\n",
      "Method:                 Least Squares   F-statistic:                     1.894\n",
      "Date:                Fri, 07 Sep 2018   Prob (F-statistic):             0.0403\n",
      "Time:                        13:54:18   Log-Likelihood:                -941.35\n",
      "No. Observations:                 275   AIC:                             1907.\n",
      "Df Residuals:                     263   BIC:                             1950.\n",
      "Df Model:                          11                                         \n",
      "Covariance Type:            nonrobust                                         \n",
      "==============================================================================\n",
      "                 coef    std err          t      P>|t|      [0.025      0.975]\n",
      "------------------------------------------------------------------------------\n",
      "const          1.7409      0.458      3.805      0.000       0.840       2.642\n",
      "dp             0.3778      2.981      0.127      0.899      -5.491       6.247\n",
      "dy             0.7881      2.819      0.280      0.780      -4.763       6.339\n",
      "ep             0.9641      0.918      1.051      0.294      -0.843       2.771\n",
      "bm            -1.0476      1.435     -0.730      0.466      -3.874       1.778\n",
      "ntis          -0.2439      0.575     -0.424      0.672      -1.377       0.889\n",
      "tbl           -0.2019      0.757     -0.267      0.790      -1.693       1.289\n",
      "ltr            1.2455      0.572      2.179      0.030       0.120       2.371\n",
      "dfy            0.1681      0.769      0.219      0.827      -1.347       1.683\n",
      "dfr            1.5716      0.559      2.813      0.005       0.472       2.672\n",
      "infl          -0.2198      0.612     -0.359      0.720      -1.426       0.986\n",
      "ik            -0.3635      0.692     -0.525      0.600      -1.726       0.999\n",
      "==============================================================================\n",
      "Omnibus:                       32.819   Durbin-Watson:                   2.056\n",
      "Prob(Omnibus):                  0.000   Jarque-Bera (JB):               53.485\n",
      "Skew:                          -0.705   Prob(JB):                     2.43e-12\n",
      "Kurtosis:                       4.636   Cond. No.                         17.6\n",
      "==============================================================================\n",
      "\n",
      "Warnings:\n",
      "[1] Standard Errors assume that the covariance matrix of the errors is correctly specified.\n"
     ]
    }
   ],
   "source": [
    "ols = sm.OLS(y_train, X_train).fit()\n",
    "print(ols.summary())"
   ]
  },
  {
   "cell_type": "code",
   "execution_count": 8,
   "metadata": {},
   "outputs": [
    {
     "data": {
      "text/plain": [
       "const    1.740854\n",
       "dp       0.377822\n",
       "dy       0.788107\n",
       "ep       0.964090\n",
       "bm      -1.047599\n",
       "ntis    -0.243872\n",
       "tbl     -0.201925\n",
       "ltr      1.245539\n",
       "dfy      0.168125\n",
       "dfr      1.571624\n",
       "infl    -0.219846\n",
       "ik      -0.363492\n",
       "dtype: float64"
      ]
     },
     "execution_count": 8,
     "metadata": {},
     "output_type": "execute_result"
    }
   ],
   "source": [
    "ols.params"
   ]
  },
  {
   "cell_type": "code",
   "execution_count": 10,
   "metadata": {},
   "outputs": [
    {
     "data": {
      "text/plain": [
       "const    0.457528\n",
       "dp       2.980765\n",
       "dy       2.819321\n",
       "ep       0.917720\n",
       "bm       1.435275\n",
       "ntis     0.575302\n",
       "tbl      0.757317\n",
       "ltr      0.571590\n",
       "dfy      0.769295\n",
       "dfr      0.558712\n",
       "infl     0.612450\n",
       "ik       0.691862\n",
       "dtype: float64"
      ]
     },
     "execution_count": 10,
     "metadata": {},
     "output_type": "execute_result"
    }
   ],
   "source": [
    "ols.bse"
   ]
  },
  {
   "cell_type": "code",
   "execution_count": 16,
   "metadata": {},
   "outputs": [
    {
     "data": {
      "text/plain": [
       "yyyyq\n",
       "19472    2.139557\n",
       "19473    3.049011\n",
       "19474    0.656078\n",
       "19481    3.388767\n",
       "19482    3.610378\n",
       "dtype: float64"
      ]
     },
     "execution_count": 16,
     "metadata": {},
     "output_type": "execute_result"
    }
   ],
   "source": [
    "ols.fittedvalues.head()"
   ]
  },
  {
   "cell_type": "code",
   "execution_count": 17,
   "metadata": {},
   "outputs": [
    {
     "data": {
      "text/plain": [
       "yyyyq\n",
       "19472   -1.880025\n",
       "19473   -3.716644\n",
       "19474    0.584027\n",
       "19481   -4.847113\n",
       "19482    6.822792\n",
       "dtype: float64"
      ]
     },
     "execution_count": 17,
     "metadata": {},
     "output_type": "execute_result"
    }
   ],
   "source": [
    "ols.resid.head()"
   ]
  }
 ],
 "metadata": {
  "kernelspec": {
   "display_name": "Python 3",
   "language": "python",
   "name": "python3"
  },
  "language_info": {
   "codemirror_mode": {
    "name": "ipython",
    "version": 3
   },
   "file_extension": ".py",
   "mimetype": "text/x-python",
   "name": "python",
   "nbconvert_exporter": "python",
   "pygments_lexer": "ipython3",
   "version": "3.6.6"
  }
 },
 "nbformat": 4,
 "nbformat_minor": 2
}
